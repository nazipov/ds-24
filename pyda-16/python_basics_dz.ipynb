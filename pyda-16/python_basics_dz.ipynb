{
 "cells": [
  {
   "cell_type": "markdown",
   "metadata": {},
   "source": [
    "# Задание 1"
   ]
  },
  {
   "cell_type": "code",
   "execution_count": 7,
   "metadata": {},
   "outputs": [
    {
     "name": "stdout",
     "output_type": "stream",
     "text": [
      "Фраза 1 длиннее фразы 2\n"
     ]
    }
   ],
   "source": [
    "phrase_1 = 'Насколько проще было бы писать программы, если бы не заказчики'\n",
    "phrase_2 = '640Кб должно хватить для любых задач. Билл Гейтс (по легенде)'\n",
    "\n",
    "if len(phrase_1) > len(phrase_2):\n",
    "    print('Фраза 1 длиннее фразы 2');\n",
    "elif len(phrase_2) > len(phrase_1):\n",
    "    print('Фраза 2 длиннее фразы 1');\n",
    "else:\n",
    "    print('Фразы равны по длинне');"
   ]
  },
  {
   "cell_type": "markdown",
   "metadata": {},
   "source": [
    "# Задание 2"
   ]
  },
  {
   "cell_type": "code",
   "execution_count": 17,
   "metadata": {},
   "outputs": [
    {
     "name": "stdout",
     "output_type": "stream",
     "text": [
      "Обычный год\n"
     ]
    }
   ],
   "source": [
    "year = 2200\n",
    "\n",
    "if year % 4 != 0 or (year % 100 == 0 and year % 400 != 0):\n",
    "    print('Обычный год')\n",
    "else:\n",
    "    print('Високосный год')"
   ]
  },
  {
   "cell_type": "markdown",
   "metadata": {},
   "source": [
    "# Задание 3"
   ]
  },
  {
   "cell_type": "code",
   "execution_count": 8,
   "metadata": {},
   "outputs": [
    {
     "name": "stdout",
     "output_type": "stream",
     "text": [
      "Введите день:20\n",
      "Введите месяц:Апрель\n",
      "Ваш знак зодиака:  Телец\n"
     ]
    }
   ],
   "source": [
    "# https://ru.wikipedia.org/wiki/Знаки_зодиака -> Западная астрология (вариант I)\n",
    "\n",
    "my_dict = {\n",
    "    'Март': [21, 'Овен', 'Рыбы'],\n",
    "    'Апрель': [20, 'Телец', 'Овен'],\n",
    "    'Май': [21, 'Близнецы', 'Телец'],\n",
    "    'Июнь': [21, 'Рак', 'Близнецы'],\n",
    "    'Июль': [23, 'Лев', 'Рак'],\n",
    "    'Август': [23, 'Девы', 'Лев'],\n",
    "    'Сентябрь': [23, 'Весы', 'Девы'],\n",
    "    'Октябрь': [23, 'Скорпион', 'Весы'],\n",
    "    'Ноябрь': [22, 'Стрелец', 'Скорпион'],\n",
    "    'Декабрь': [22, 'Козерог', 'Стрелец'],\n",
    "    'Январь': [20, 'Водолей', 'Козерог'],\n",
    "    'Февраль': [19, 'Рыбы', 'Водолей']\n",
    "}\n",
    "\n",
    "day = int(input('Введите день:'))\n",
    "month = input('Введите месяц:')\n",
    "\n",
    "item = my_dict[month]\n",
    "\n",
    "if day >= item[0]:\n",
    "    print('Ваш знак зодиака: ', item[1])\n",
    "else:\n",
    "    print('Ваш знак зодиака: ', item[2])"
   ]
  },
  {
   "cell_type": "markdown",
   "metadata": {},
   "source": [
    "# Задание 4"
   ]
  },
  {
   "cell_type": "code",
   "execution_count": 8,
   "metadata": {},
   "outputs": [
    {
     "name": "stdout",
     "output_type": "stream",
     "text": [
      "Упаковка для лыж\n"
     ]
    }
   ],
   "source": [
    "width = 10\n",
    "length = 205\n",
    "height = 5\n",
    "\n",
    "max_dim = max([width, length, height])\n",
    "\n",
    "if max_dim < 15:\n",
    "    print('Коробка №1')\n",
    "elif max_dim < 50:\n",
    "    print('Коробка №2')\n",
    "elif length > 200:\n",
    "    print('Упаковка для лыж')\n",
    "else:\n",
    "    print('Стандартная коробка №3')\n"
   ]
  },
  {
   "cell_type": "markdown",
   "metadata": {},
   "source": [
    "# Задание 5"
   ]
  },
  {
   "cell_type": "code",
   "execution_count": 31,
   "metadata": {},
   "outputs": [
    {
     "name": "stdout",
     "output_type": "stream",
     "text": [
      "Счастливый билет\n"
     ]
    }
   ],
   "source": [
    "number = 123321\n",
    "\n",
    "# неточность в задании, не сказано до каких пор складывать, один раз или два? делаю предположение, что один раз\n",
    "def sum(n):\n",
    "    n1 = n // 100\n",
    "    n2 = n % 100 // 10\n",
    "    n3 = n % 10\n",
    "    return n1 + n2 + n3\n",
    "\n",
    "l = number // 1000\n",
    "r = number % 1000\n",
    "\n",
    "if sum(l) == sum(r):\n",
    "    print('Счастливый билет')    \n",
    "else:\n",
    "    print('Неасчастливый билет')"
   ]
  },
  {
   "cell_type": "markdown",
   "metadata": {},
   "source": [
    "# Задание 6"
   ]
  },
  {
   "cell_type": "code",
   "execution_count": 3,
   "metadata": {},
   "outputs": [
    {
     "name": "stdout",
     "output_type": "stream",
     "text": [
      "Введите тип фигуры:Треугольник\n",
      "Введите длину стороны A:2\n",
      "Введите длину стороны B:2\n",
      "Введите длину стороны C:3\n",
      "Площадь треугольника: 1.984313483298443\n"
     ]
    }
   ],
   "source": [
    "import math\n",
    "\n",
    "shape_type = input('Введите тип фигуры:')\n",
    "\n",
    "if shape_type == 'Круг':\n",
    "    radius = float(input('Введите радиус круга:'))\n",
    "    s = math.pi * radius ** 2\n",
    "    print('Площадь круга:', s)\n",
    "elif shape_type == 'Треугольник':\n",
    "    # Формула Герона\n",
    "    a = float(input('Введите длину стороны A:'))\n",
    "    b = float(input('Введите длину стороны B:'))\n",
    "    c = float(input('Введите длину стороны C:'))\n",
    "    \n",
    "    p = (a + b + c) / 2\n",
    "    s = math.sqrt(p * (p - a) * (p - b) * (p - c))\n",
    "    print('Площадь треугольника:', s)\n",
    "elif shape_type == 'Прямоугольник':\n",
    "    a = float(input('Введите длину стороны A:'))\n",
    "    b = float(input('Введите длину стороны B:'))\n",
    "    \n",
    "    s = a * b\n",
    "    print('Площадь прямоугольника:', s)"
   ]
  }
 ],
 "metadata": {
  "kernelspec": {
   "display_name": "Python 3",
   "language": "python",
   "name": "python3"
  },
  "language_info": {
   "codemirror_mode": {
    "name": "ipython",
    "version": 3
   },
   "file_extension": ".py",
   "mimetype": "text/x-python",
   "name": "python",
   "nbconvert_exporter": "python",
   "pygments_lexer": "ipython3",
   "version": "3.8.6"
  }
 },
 "nbformat": 4,
 "nbformat_minor": 4
}
