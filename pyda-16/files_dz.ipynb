{
 "cells": [
  {
   "cell_type": "code",
   "execution_count": 6,
   "metadata": {},
   "outputs": [
    {
     "name": "stdout",
     "output_type": "stream",
     "text": [
      "Всего было покупок 13799\n"
     ]
    }
   ],
   "source": [
    "import json\n",
    "\n",
    "#\n",
    "# читтаем purchase_log\n",
    "#\n",
    "purchase_log_src = open('./data/purchase_log.txt', 'r')\n",
    "purchase_log_lines = purchase_log_src.readlines()\n",
    "purchase_log_src.close()\n",
    "\n",
    "# парсим\n",
    "purchase_log = list(map(lambda l: json.loads(l), purchase_log_lines))\n",
    "purchases = dict((l['user_id'], l['category']) for l in purchase_log)\n",
    "\n",
    "# процессим файл\n",
    "src = open('./data/visit_log.csv', 'r')\n",
    "dst = open('./data/funnel.csv', 'w')\n",
    "\n",
    "cnt = 0\n",
    "\n",
    "while True:\n",
    "    line = src.readline()\n",
    "    if line:\n",
    "        user_id, source = line.strip().split(',')\n",
    "        if user_id in purchases:\n",
    "            cnt += 1\n",
    "            dst.write(','.join([user_id, source, purchases[user_id]]))\n",
    "            dst.write(\"\\n\")\n",
    "    else:\n",
    "        break\n",
    "\n",
    "src.close()\n",
    "dst.close()\n",
    "\n",
    "print(F\"Всего было покупок {cnt}\")"
   ]
  }
 ],
 "metadata": {
  "kernelspec": {
   "display_name": "Python 3",
   "language": "python",
   "name": "python3"
  },
  "language_info": {
   "codemirror_mode": {
    "name": "ipython",
    "version": 3
   },
   "file_extension": ".py",
   "mimetype": "text/x-python",
   "name": "python",
   "nbconvert_exporter": "python",
   "pygments_lexer": "ipython3",
   "version": "3.9.0"
  }
 },
 "nbformat": 4,
 "nbformat_minor": 4
}
