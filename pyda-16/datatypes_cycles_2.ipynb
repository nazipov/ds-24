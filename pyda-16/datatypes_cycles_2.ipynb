{
 "cells": [
  {
   "cell_type": "markdown",
   "metadata": {},
   "source": [
    "# Задание 1"
   ]
  },
  {
   "cell_type": "code",
   "execution_count": 4,
   "metadata": {},
   "outputs": [
    {
     "name": "stdout",
     "output_type": "stream",
     "text": [
      "{98, 35, 15, 213, 54, 119}\n"
     ]
    }
   ],
   "source": [
    "ids = {\n",
    "    'user1': [213, 213, 213, 15, 213],\n",
    "    'user2': [54, 54, 119, 119, 119],\n",
    "    'user3': [213, 98, 98, 35]\n",
    "}\n",
    "\n",
    "geo_labels = set();\n",
    "\n",
    "for k in ids.keys():\n",
    "    geo_labels.update(ids[k])\n",
    "\n",
    "print(geo_labels)"
   ]
  },
  {
   "cell_type": "markdown",
   "metadata": {},
   "source": [
    "# Задание 2"
   ]
  },
  {
   "cell_type": "code",
   "execution_count": 27,
   "metadata": {},
   "outputs": [
    {
     "name": "stdout",
     "output_type": "stream",
     "text": [
      "Поисковых запросов, содержащих 3 слов(а): 57.14%\n",
      "Поисковых запросов, содержащих 2 слов(а): 42.86%\n"
     ]
    }
   ],
   "source": [
    "queries = [\n",
    "    'смотреть сериалы онлайн',\n",
    "    'новости спорта',\n",
    "    'афиша кино',\n",
    "    'курс доллара',\n",
    "    'сериалы этим летом',\n",
    "    'курс по питону',\n",
    "    'сериалы про спорт',\n",
    "]\n",
    "\n",
    "stats = {}\n",
    "\n",
    "for query in queries:\n",
    "    word_count = len(query.split())\n",
    "\n",
    "    if word_count in stats:\n",
    "        stats[word_count] += 1\n",
    "    else:\n",
    "        stats[word_count] = 1\n",
    "\n",
    "for word_count, queries_count in stats.items():\n",
    "    print(F\"Поисковых запросов, содержащих {word_count} слов(а): {100 * (queries_count / len(queries)):.2f}%\")\n"
   ]
  },
  {
   "cell_type": "markdown",
   "metadata": {},
   "source": [
    "# Задание 3"
   ]
  },
  {
   "cell_type": "code",
   "execution_count": 43,
   "metadata": {},
   "outputs": [
    {
     "name": "stdout",
     "output_type": "stream",
     "text": [
      "{'vk': {'revenue': 103, 'cost': 98, 'roi': 5.1}, 'yandex': {'revenue': 179, 'cost': 153, 'roi': 16.99}, 'facebook': {'revenue': 103, 'cost': 110, 'roi': -6.36}, 'adwords': {'revenue': 35, 'cost': 34, 'roi': 2.94}, 'twitter': {'revenue': 11, 'cost': 24, 'roi': -54.17}}\n"
     ]
    }
   ],
   "source": [
    "results = {\n",
    "    'vk': {'revenue': 103, 'cost': 98},\n",
    "    'yandex': {'revenue': 179, 'cost': 153},\n",
    "    'facebook': {'revenue': 103, 'cost': 110},\n",
    "    'adwords': {'revenue': 35, 'cost': 34},\n",
    "    'twitter': {'revenue': 11, 'cost': 24},\n",
    "}\n",
    "\n",
    "def roi(revenue, cost):\n",
    "    return round((revenue / cost - 1) * 100, 2)\n",
    "\n",
    "for source, data in results.items():\n",
    "    data['roi'] = roi(data['revenue'], data['cost'])\n",
    "\n",
    "print(results)"
   ]
  },
  {
   "cell_type": "markdown",
   "metadata": {},
   "source": [
    "# Задание 4"
   ]
  },
  {
   "cell_type": "code",
   "execution_count": 48,
   "metadata": {},
   "outputs": [
    {
     "name": "stdout",
     "output_type": "stream",
     "text": [
      "Максимальный объем продаж на рекламном канале: vk\n"
     ]
    }
   ],
   "source": [
    "import operator\n",
    "\n",
    "stats = {\n",
    "    'facebook': 55,\n",
    "    'yandex': 115,\n",
    "    'vk': 120,\n",
    "    'google': 99,\n",
    "    'email': 42,\n",
    "    'ok': 98\n",
    "}\n",
    "\n",
    "source = max(stats.items(), key=operator.itemgetter(1))[0]\n",
    "\n",
    "print(f\"Максимальный объем продаж на рекламном канале: {source}\")"
   ]
  },
  {
   "cell_type": "markdown",
   "metadata": {},
   "source": [
    "# Задание 5"
   ]
  },
  {
   "cell_type": "code",
   "execution_count": 56,
   "metadata": {},
   "outputs": [
    {
     "name": "stdout",
     "output_type": "stream",
     "text": [
      "{'2018-01-01': {'yandex': {'cpc': 100}}}\n"
     ]
    }
   ],
   "source": [
    "my_list = ['2018-01-01', 'yandex', 'cpc', 100]\n",
    "\n",
    "my_dict = None\n",
    "\n",
    "for i in reversed(my_list):\n",
    "    if my_dict is None:\n",
    "        my_dict = i\n",
    "    else:\n",
    "        my_dict = {i: my_dict}\n",
    "\n",
    "print(my_dict)"
   ]
  },
  {
   "cell_type": "markdown",
   "metadata": {},
   "source": [
    "# Задание 6"
   ]
  },
  {
   "cell_type": "code",
   "execution_count": 11,
   "metadata": {},
   "outputs": [
    {
     "name": "stdout",
     "output_type": "stream",
     "text": [
      "Введите количество порций:3\n",
      "Результат:\n",
      "сыр: 210 гр\n",
      "томаты: 66 шт\n",
      "огурцы: 60 гр\n",
      "маслины: 30 гр\n",
      "оливковое масло: 60 мл\n",
      "салат: 30 гр\n",
      "перец: 60 гр\n",
      "колбаса: 90 гр\n",
      "бекон: 90 гр\n",
      "оливки: 30 гр\n",
      "тесто: 300 гр\n",
      "лимон: 3 шт\n",
      "вода: 600 мл\n",
      "сахар: 30 гр\n",
      "лайм: 60 гр\n"
     ]
    }
   ],
   "source": [
    "cook_book = {\n",
    "  'салат':\n",
    "    [\n",
    "      {'ingridient_name': 'сыр', 'quantity': 50, 'measure': 'гр'},\n",
    "      {'ingridient_name': 'томаты', 'quantity': 2, 'measure': 'шт'},\n",
    "      {'ingridient_name': 'огурцы', 'quantity': 20, 'measure': 'гр'},\n",
    "      {'ingridient_name': 'маслины', 'quantity': 10, 'measure': 'гр'},\n",
    "      {'ingridient_name': 'оливковое масло', 'quantity': 20, 'measure': 'мл'},\n",
    "      {'ingridient_name': 'салат', 'quantity': 10, 'measure': 'гр'},\n",
    "      {'ingridient_name': 'перец', 'quantity': 20, 'measure': 'гр'}\n",
    "    ],\n",
    "  'пицца':\n",
    "    [\n",
    "      {'ingridient_name': 'сыр', 'quantity': 20, 'measure': 'гр'},\n",
    "      {'ingridient_name': 'колбаса', 'quantity': 30, 'measure': 'гр'},\n",
    "      {'ingridient_name': 'бекон', 'quantity': 30, 'measure': 'гр'},\n",
    "      {'ingridient_name': 'оливки', 'quantity': 10, 'measure': 'гр'},\n",
    "      {'ingridient_name': 'томаты', 'quantity': 20, 'measure': 'гр'},\n",
    "      {'ingridient_name': 'тесто', 'quantity': 100, 'measure': 'гр'},\n",
    "    ],\n",
    "  'лимонад':\n",
    "    [\n",
    "      {'ingridient_name': 'лимон', 'quantity': 1, 'measure': 'шт'},\n",
    "      {'ingridient_name': 'вода', 'quantity': 200, 'measure': 'мл'},\n",
    "      {'ingridient_name': 'сахар', 'quantity': 10, 'measure': 'гр'},\n",
    "      {'ingridient_name': 'лайм', 'quantity': 20, 'measure': 'гр'},\n",
    "    ]\n",
    "  }\n",
    "   \n",
    "count = int(input('Введите количество порций:'))\n",
    "\n",
    "list_to_buy = {}\n",
    "\n",
    "for food in cook_book.keys():\n",
    "    for ingridients in cook_book[food]:\n",
    "        ingridient_name = ingridients['ingridient_name']\n",
    "        if ingridient_name not in list_to_buy:\n",
    "            list_to_buy[ingridient_name] = {\n",
    "                'quantity': 0,\n",
    "                'measure': ingridients['measure']\n",
    "            }\n",
    "\n",
    "        list_to_buy[ingridient_name]['quantity'] += count * ingridients['quantity']\n",
    "\n",
    "print('Результат:')\n",
    "\n",
    "for product, details in list_to_buy.items():\n",
    "    print(F\"{product}: {details['quantity']} {details['measure']}\")"
   ]
  }
 ],
 "metadata": {
  "kernelspec": {
   "display_name": "Python 3",
   "language": "python",
   "name": "python3"
  },
  "language_info": {
   "codemirror_mode": {
    "name": "ipython",
    "version": 3
   },
   "file_extension": ".py",
   "mimetype": "text/x-python",
   "name": "python",
   "nbconvert_exporter": "python",
   "pygments_lexer": "ipython3",
   "version": "3.9.0"
  }
 },
 "nbformat": 4,
 "nbformat_minor": 4
}
