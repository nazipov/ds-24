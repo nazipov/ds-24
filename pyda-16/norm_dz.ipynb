{
 "cells": [
  {
   "cell_type": "markdown",
   "metadata": {},
   "source": [
    "# Случайные события. Случайные величины ДЗ"
   ]
  },
  {
   "cell_type": "code",
   "execution_count": 2,
   "metadata": {},
   "outputs": [],
   "source": [
    "import numpy as np"
   ]
  },
  {
   "cell_type": "code",
   "execution_count": 44,
   "metadata": {},
   "outputs": [],
   "source": [
    "def win_amount(number):\n",
    "    if number == 777:\n",
    "        return 200\n",
    "    elif number == 999:\n",
    "        return 100\n",
    "    elif number == 555:\n",
    "        return 50\n",
    "    elif number == 333:\n",
    "        return 15\n",
    "    elif number == 111:\n",
    "        return 10\n",
    "    elif divmod(number, 100)[1] == 77:\n",
    "        return 5\n",
    "    elif divmod(number, 10)[1] == 7:\n",
    "        return 3\n",
    "    elif divmod(number, 100)[1] == 0:\n",
    "        return 2\n",
    "    elif divmod(number, 10)[1] == 0:\n",
    "        return 1\n",
    "    else:\n",
    "        return 0\n",
    "\n",
    "assert win_amount(777) == 200\n",
    "assert win_amount(999) == 100\n",
    "assert win_amount(555) == 50\n",
    "assert win_amount(333) == 15\n",
    "assert win_amount(111) == 10\n",
    "assert win_amount(277) == 5\n",
    "assert win_amount(227) == 3\n",
    "assert win_amount(200) == 2\n",
    "assert win_amount(210) == 1\n",
    "assert win_amount(571) == 0"
   ]
  },
  {
   "cell_type": "code",
   "execution_count": 84,
   "metadata": {},
   "outputs": [
    {
     "name": "stdout",
     "output_type": "stream",
     "text": [
      "Потратил  100000.00 R\n",
      "Выиграл  79835.00 R\n",
      "Баланс игрока -20165.00 R\n",
      "За раунд игрок теряет -0.20 R\n",
      "CPU times: user 335 ms, sys: 5.71 ms, total: 341 ms\n",
      "Wall time: 344 ms\n"
     ]
    }
   ],
   "source": [
    "%%time\n",
    "\n",
    "rounds = 100000\n",
    "\n",
    "bet_price = 1\n",
    "\n",
    "bets = 0\n",
    "wins = 0\n",
    "\n",
    "for round in range(rounds):\n",
    "    number = np.random.randint(0, 1000)\n",
    "\n",
    "    bets += bet_price\n",
    "    wins += win_amount(number)\n",
    "\n",
    "print(f\"Потратил {bets : .2f} R\")\n",
    "print(f\"Выиграл {wins : .2f} R\")\n",
    "\n",
    "print(f\"Баланс игрока {wins - bets : .2f} R\")\n",
    "print(f\"За раунд игрок теряет {(wins - bets) / rounds : .2f} R\")"
   ]
  },
  {
   "cell_type": "markdown",
   "metadata": {},
   "source": [
    "**Вывод**: Игра игроку не выгодна"
   ]
  },
  {
   "cell_type": "markdown",
   "metadata": {},
   "source": [
    "## Теория"
   ]
  },
  {
   "cell_type": "code",
   "execution_count": 81,
   "metadata": {},
   "outputs": [
    {
     "data": {
      "text/plain": [
       "0.53"
      ]
     },
     "execution_count": 81,
     "metadata": {},
     "output_type": "execute_result"
    }
   ],
   "source": [
    "p_200 =  1 / 1000 # 777\n",
    "p_100 =  1 / 1000 # 999\n",
    "p_50  =  1 / 1000 # 555\n",
    "p_15  =  1 / 1000 # 333\n",
    "p_10  =  1 / 1000 # 111\n",
    "p_5   =  9 / 1000 # *77\n",
    "p_3   = 90 / 1000 # **7\n",
    "p_2   = 10 / 1000 # *00\n",
    "p_1   = 90 / 1000 # **0\n",
    "p_0   = 1 - p_200 - p_100 - p_50 - p_15 - p_10 - p_5 - p_3 - p_2 - p_1\n",
    "\n",
    "win   = (p_200 * 200 +\n",
    "         p_100 * 100 +\n",
    "         p_50 * 50 + \n",
    "         p_15 * 15 + \n",
    "         p_10 * 10 +\n",
    "         p_5 * 5 +\n",
    "         p_2 * 2 +\n",
    "         p_1 * 1 +\n",
    "         p_0 * 0)\n",
    "\n",
    "win"
   ]
  }
 ],
 "metadata": {
  "kernelspec": {
   "display_name": "Python 3",
   "language": "python",
   "name": "python3"
  },
  "language_info": {
   "codemirror_mode": {
    "name": "ipython",
    "version": 3
   },
   "file_extension": ".py",
   "mimetype": "text/x-python",
   "name": "python",
   "nbconvert_exporter": "python",
   "pygments_lexer": "ipython3",
   "version": "3.8.5"
  }
 },
 "nbformat": 4,
 "nbformat_minor": 4
}
