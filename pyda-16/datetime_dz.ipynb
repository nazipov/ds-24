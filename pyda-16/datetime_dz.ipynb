{
 "cells": [
  {
   "cell_type": "markdown",
   "metadata": {},
   "source": [
    "# Задание 1"
   ]
  },
  {
   "cell_type": "code",
   "execution_count": 6,
   "metadata": {},
   "outputs": [
    {
     "name": "stdout",
     "output_type": "stream",
     "text": [
      "The Moscow Times - 2002-10-02 00:00:00\n",
      "The Guardian - 2013-10-11 00:00:00\n",
      "Daily News - 1977-08-18 00:00:00\n"
     ]
    }
   ],
   "source": [
    "# The Moscow Times - Wednesday, October 2, 2002\n",
    "# The Guardian - Friday, 11.10.13\n",
    "# Daily News - Thursday, 18 August 1977\n",
    "\n",
    "from datetime import datetime\n",
    "\n",
    "# спорный момент: С названием газеты парсить или нет!? Ничего не написано в задании\n",
    "m_datetime = datetime.strptime(\"The Moscow Times - Wednesday, October 2, 2002\", \"The Moscow Times - %A, %B %d, %Y\")\n",
    "g_datetime = datetime.strptime(\"The Guardian - Friday, 11.10.13\", \"The Guardian - %A, %d.%m.%y\")\n",
    "d_datetime = datetime.strptime(\"Daily News - Thursday, 18 August 1977\", \"Daily News - %A, %d %B %Y\")\n",
    "\n",
    "print(\"The Moscow Times - {}\".format(m_datetime))\n",
    "print(\"The Guardian - {}\".format(g_datetime))\n",
    "print(\"Daily News - {}\".format(d_datetime))"
   ]
  },
  {
   "cell_type": "markdown",
   "metadata": {},
   "source": [
    "# Задание 2"
   ]
  },
  {
   "cell_type": "code",
   "execution_count": 8,
   "metadata": {},
   "outputs": [
    {
     "data": {
      "text/plain": [
       "[True, False, False]"
      ]
     },
     "execution_count": 8,
     "metadata": {},
     "output_type": "execute_result"
    }
   ],
   "source": [
    "from datetime import date\n",
    "\n",
    "stream = ['2018-04-02', '2018-02-29', '2018-19-02']\n",
    "\n",
    "def is_correct_date(maybe_date_string):\n",
    "    try:\n",
    "        date.fromisoformat(maybe_date_string)\n",
    "        return True\n",
    "    except ValueError:\n",
    "        return False\n",
    "\n",
    "list(map(is_correct_date, stream))"
   ]
  },
  {
   "cell_type": "markdown",
   "metadata": {},
   "source": [
    "# Задание 3"
   ]
  },
  {
   "cell_type": "code",
   "execution_count": 11,
   "metadata": {},
   "outputs": [
    {
     "name": "stdout",
     "output_type": "stream",
     "text": [
      "Start date: 2020-01-04\n",
      "End date: 2020-01-09\n",
      "[datetime.date(2020, 1, 4), datetime.date(2020, 1, 5), datetime.date(2020, 1, 6), datetime.date(2020, 1, 7), datetime.date(2020, 1, 8), datetime.date(2020, 1, 9)]\n"
     ]
    }
   ],
   "source": [
    "from datetime import date, timedelta\n",
    "\n",
    "def date_range(start_date, end_date):\n",
    "    stream = []\n",
    "\n",
    "    shift = timedelta(days=1)\n",
    "    while start_date <= end_date:\n",
    "        stream.append(start_date)\n",
    "        start_date += shift;\n",
    "\n",
    "    return stream\n",
    "\n",
    "start_date = date.fromisoformat(input('Start date: '))\n",
    "end_date = date.fromisoformat(input('End date: '))\n",
    "\n",
    "print(date_range(start_date, end_date))"
   ]
  }
 ],
 "metadata": {
  "kernelspec": {
   "display_name": "Python 3",
   "language": "python",
   "name": "python3"
  },
  "language_info": {
   "codemirror_mode": {
    "name": "ipython",
    "version": 3
   },
   "file_extension": ".py",
   "mimetype": "text/x-python",
   "name": "python",
   "nbconvert_exporter": "python",
   "pygments_lexer": "ipython3",
   "version": "3.9.0"
  }
 },
 "nbformat": 4,
 "nbformat_minor": 4
}
