{
 "cells": [
  {
   "cell_type": "code",
   "execution_count": 1,
   "metadata": {},
   "outputs": [],
   "source": [
    "import re"
   ]
  },
  {
   "cell_type": "markdown",
   "metadata": {},
   "source": [
    "# Задание 1"
   ]
  },
  {
   "cell_type": "code",
   "execution_count": 42,
   "metadata": {
    "scrolled": true
   },
   "outputs": [
    {
     "name": "stdout",
     "output_type": "stream",
     "text": [
      "Номер A222BC валиден. Регион: 96\n",
      "Номер не валиден\n"
     ]
    }
   ],
   "source": [
    "def parse_car_id(car_id):\n",
    "    r = re.search(r'^(?P<number>[a-zA-Z]\\d{3}[a-zA-Z]{2})(?P<region>\\d{2,3})$', car_id)\n",
    "    \n",
    "    if r:\n",
    "        return r.group('number'), r.group('region')\n",
    "    else:\n",
    "        return None\n",
    "\n",
    "def parse_and_print(car_id):\n",
    "    parsed_car_id = parse_car_id(car_id)\n",
    "    if parsed_car_id is not None:\n",
    "        number, region = parsed_car_id\n",
    "        print('Номер {} валиден. Регион: {}'.format(number, region))\n",
    "    else:\n",
    "        print('Номер не валиден')\n",
    "    \n",
    "parse_and_print('A222BC96')\n",
    "parse_and_print('АБ22ВВ193')"
   ]
  },
  {
   "cell_type": "markdown",
   "metadata": {},
   "source": [
    "# Задание 2"
   ]
  },
  {
   "cell_type": "code",
   "execution_count": 126,
   "metadata": {},
   "outputs": [
    {
     "name": "stdout",
     "output_type": "stream",
     "text": [
      "Напишите функцию функцию, которая удалять последовательные повторы слов заданной при помощи регулярных выражений.\n"
     ]
    }
   ],
   "source": [
    "def remove_duplicates(some_text):\n",
    "    return re.sub(r'\\b(\\w+)\\s+(?P<dups>(\\1\\s)+)\\b', '', some_text)\n",
    "\n",
    "some_string = 'Напишите функцию функцию, которая будет будет будет будет удалять все все все все последовательные повторы слов из из из из заданной строки строки при помощи регулярных выражений.'\n",
    "\n",
    "print(remove_duplicates(some_string))"
   ]
  },
  {
   "cell_type": "markdown",
   "metadata": {},
   "source": [
    "# Задание 3"
   ]
  },
  {
   "cell_type": "code",
   "execution_count": 48,
   "metadata": {},
   "outputs": [
    {
     "name": "stdout",
     "output_type": "stream",
     "text": [
      "NFC\n",
      "ИТ\n"
     ]
    }
   ],
   "source": [
    "def acronym(some_words):\n",
    "    return ''.join(re.findall(r'\\b\\w', some_words)).upper()\n",
    "\n",
    "print(acronym('Near Field Communication'))\n",
    "print(acronym('Информационные технологии'))"
   ]
  },
  {
   "cell_type": "markdown",
   "metadata": {},
   "source": [
    "# Задание 4"
   ]
  },
  {
   "cell_type": "code",
   "execution_count": 55,
   "metadata": {},
   "outputs": [
    {
     "name": "stdout",
     "output_type": "stream",
     "text": [
      "gmail.com: 2\n",
      "test.in: 1\n",
      "ya.ru: 2\n",
      "mail.ru: 1\n"
     ]
    }
   ],
   "source": [
    "def get_domain(email):\n",
    "    r = re.search(r'@(?P<domain>\\w+\\.\\w+)$', email)\n",
    "    return r.group('domain')\n",
    "\n",
    "def count_by_domains(emails):\n",
    "    result = {}\n",
    "    for email in emails:\n",
    "        domain = get_domain(email)\n",
    "        if domain in result:\n",
    "            result[domain] += 1\n",
    "        else:\n",
    "            result[domain] = 1\n",
    "    return result\n",
    "\n",
    "emails = ['test@gmail.com', 'xyz@test.in', 'test@ya.ru', 'xyz@mail.ru', 'xyz@ya.ru', 'xyz@gmail.com']\n",
    "\n",
    "for domain, count in count_by_domains(emails).items():\n",
    "    print('{}: {}'.format(domain, count))"
   ]
  },
  {
   "cell_type": "markdown",
   "metadata": {},
   "source": [
    "# Задание 5"
   ]
  },
  {
   "cell_type": "code",
   "execution_count": 122,
   "metadata": {},
   "outputs": [
    {
     "name": "stdout",
     "output_type": "stream",
     "text": [
      "Слов на гласные буквы: 9\n",
      "Слов на согласные буквы: 21\n"
     ]
    }
   ],
   "source": [
    "def stats(some_text):\n",
    "    total_count = len(re.split(r'\\s', some_text))\n",
    "    vowels_count = len(re.findall(r'\\b([ауоыиэяюёеaeiouy]\\w*)+', some_text, flags=re.I | re.U))\n",
    "\n",
    "    return total_count - vowels_count, vowels_count\n",
    "\n",
    "some_text = 'Эталонной реализацией Python является интерпретатор CPython, поддерживающий большинство активно используемых платформ. Он распространяется под свободной лицензией Python Software Foundation License, позволяющей использовать его без ограничений в любых приложениях, включая проприетарные.'\n",
    "\n",
    "not_vowels_count, vowels_count = stats(some_text)\n",
    "\n",
    "print('Слов на гласные буквы: {}'.format(vowels_count))\n",
    "print('Слов на согласные буквы: {}'.format(not_vowels_count))"
   ]
  },
  {
   "cell_type": "markdown",
   "metadata": {},
   "source": [
    "# Задание 6"
   ]
  },
  {
   "cell_type": "code",
   "execution_count": 82,
   "metadata": {},
   "outputs": [
    {
     "name": "stdout",
     "output_type": "stream",
     "text": [
      "+7-955-555-55-55\n",
      "+7-955-555-45-55\n",
      "+7-955-535-55-55\n",
      "+7-955-555-55-51\n",
      "Номер не валиден\n",
      "Номер не валиден\n"
     ]
    }
   ],
   "source": [
    "def parse_russian_phone_number(phone_number):\n",
    "    only_numbers = re.sub(r'\\D+', '', phone_number)\n",
    "    \n",
    "    g = re.fullmatch(r'^(7|8)(\\d{3})(\\d{3})(\\d{2})(\\d{2})$', only_numbers)\n",
    "    if g:\n",
    "        return '+7-{}-{}-{}-{}'.format(g.group(2), g.group(3), g.group(4), g.group(5))\n",
    "    else:\n",
    "        return None;\n",
    "\n",
    "def print_phone_number_and_parse_result(phone_number):\n",
    "    parsed_prone_number = parse_russian_phone_number(phone_number)\n",
    "    if parsed_prone_number is not None:\n",
    "        print(parsed_prone_number)\n",
    "    else:\n",
    "        print('Номер не валиден')\n",
    "    \n",
    "phone_numbers = [\n",
    "    '+7 955 555-55-55',\n",
    "    '8(955)555-45-55',\n",
    "    '+7 955 535 55 55',\n",
    "    '7(955) 555-55-51',\n",
    "    '423-555-55-5555',\n",
    "    '123-456-789'\n",
    "]\n",
    "\n",
    "for phone_number in phone_numbers:\n",
    "    print_phone_number_and_parse_result(phone_number)"
   ]
  }
 ],
 "metadata": {
  "kernelspec": {
   "display_name": "Python 3",
   "language": "python",
   "name": "python3"
  },
  "language_info": {
   "codemirror_mode": {
    "name": "ipython",
    "version": 3
   },
   "file_extension": ".py",
   "mimetype": "text/x-python",
   "name": "python",
   "nbconvert_exporter": "python",
   "pygments_lexer": "ipython3",
   "version": "3.9.0"
  }
 },
 "nbformat": 4,
 "nbformat_minor": 4
}
