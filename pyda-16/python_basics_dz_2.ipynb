{
 "cells": [
  {
   "cell_type": "markdown",
   "metadata": {},
   "source": [
    "# Задание 1"
   ]
  },
  {
   "cell_type": "code",
   "execution_count": 21,
   "metadata": {},
   "outputs": [
    {
     "name": "stdout",
     "output_type": "stream",
     "text": [
      "w\n"
     ]
    }
   ],
   "source": [
    "word = 'tewst'\n",
    "\n",
    "word_length = len(word)\n",
    "\n",
    "start = word_length // 2 - 1\n",
    "\n",
    "if word_length % 2 == 0:\n",
    "    print(word[start:start + 2])\n",
    "else:\n",
    "    start += 1\n",
    "    print(word[start:start + 1])"
   ]
  },
  {
   "cell_type": "markdown",
   "metadata": {},
   "source": [
    "# Задание 2"
   ]
  },
  {
   "cell_type": "code",
   "execution_count": 5,
   "metadata": {},
   "outputs": [
    {
     "name": "stdout",
     "output_type": "stream",
     "text": [
      "Введите число:1\n",
      "Введите число:2\n",
      "Введите число:3\n",
      "Введите число:4\n",
      "Введите число:9\n",
      "Введите число:0\n",
      "19\n"
     ]
    }
   ],
   "source": [
    "memo = 0\n",
    "\n",
    "while (num := int(input('Введите число:'))) > 0:\n",
    "    memo += num\n",
    "\n",
    "print(memo)"
   ]
  },
  {
   "cell_type": "markdown",
   "metadata": {},
   "source": [
    "# Задание 3"
   ]
  },
  {
   "cell_type": "code",
   "execution_count": 10,
   "metadata": {},
   "outputs": [
    {
     "name": "stdout",
     "output_type": "stream",
     "text": [
      "Идеальные пары:\n",
      "Alex и Emma\n",
      "Arthur и Kate\n",
      "John и Kira\n",
      "Peter и Liza\n",
      "Richard и Trisha\n"
     ]
    }
   ],
   "source": [
    "boys = ['Peter', 'Alex', 'John', 'Arthur', 'Richard']\n",
    "girls = ['Kate', 'Liza', 'Kira', 'Emma', 'Trisha']\n",
    "\n",
    "if len(boys) == len(girls):\n",
    "    print('Идеальные пары:')\n",
    "    for boy, girl in list(zip(sorted(boys), sorted(girls))):\n",
    "        print('{} и {}'.format(boy, girl))\n",
    "else:\n",
    "    print('Внимание, кто-то может остаться без пары!')"
   ]
  },
  {
   "cell_type": "markdown",
   "metadata": {},
   "source": [
    "# Задание 4"
   ]
  },
  {
   "cell_type": "code",
   "execution_count": 19,
   "metadata": {},
   "outputs": [
    {
     "name": "stdout",
     "output_type": "stream",
     "text": [
      "Средняя температура в странах:\n",
      "Thailand  -  23.86 С\n",
      "Germany  -  13.80 С\n",
      "Russia  -  3.71 С\n",
      "Poland  -  12.00 С\n"
     ]
    }
   ],
   "source": [
    "countries_temperature = [\n",
    "    ['Thailand', [75.2, 77, 78.8, 73.4, 68, 75.2, 77]],\n",
    "    ['Germany', [57.2, 55.4, 59, 59, 53.6]],\n",
    "    ['Russia', [35.6, 37.4, 39.2, 41, 42.8, 39.2, 35.6]],\n",
    "    ['Poland', [50, 50, 53.6, 57.2, 55.4, 55.4]]\n",
    "]\n",
    "\n",
    "def f2c(f):\n",
    "    return (f - 32) / 1.8\n",
    "\n",
    "def mean(items):\n",
    "    return sum(items) / len(items)\n",
    "\n",
    "print('Средняя температура в странах:')\n",
    "for country, temperatures in countries_temperature:\n",
    "    print('{}  -  {:.2f} С'.format(country, f2c(mean(temperatures))))"
   ]
  },
  {
   "cell_type": "markdown",
   "metadata": {},
   "source": [
    "# Задание 5"
   ]
  },
  {
   "cell_type": "code",
   "execution_count": 25,
   "metadata": {},
   "outputs": [
    {
     "name": "stdout",
     "output_type": "stream",
     "text": [
      "Среднее количество просмотров на уникального пользователя: 23.25\n"
     ]
    }
   ],
   "source": [
    "stream = [\n",
    "    '2018-01-01,user1,3',\n",
    "    '2018-01-07,user1,4',\n",
    "    '2018-03-29,user1,1',\n",
    "    '2018-04-04,user1,13',\n",
    "    '2018-01-05,user2,7',\n",
    "    '2018-06-14,user3,4',\n",
    "    '2018-07-02,user3,10',\n",
    "    '2018-03-21,user4,19',\n",
    "    '2018-03-22,user4,4',\n",
    "    '2018-04-22,user4,8',\n",
    "    '2018-05-03,user4,9',\n",
    "    '2018-05-11,user4,11',\n",
    "]\n",
    "\n",
    "users = set()\n",
    "memo = 0\n",
    "\n",
    "for i in stream:\n",
    "    date, user, n = i.split(',')\n",
    "    \n",
    "    users.add(user)\n",
    "    memo += int(n)\n",
    "\n",
    "value = memo / len(users)\n",
    "    \n",
    "print('Среднее количество просмотров на уникального пользователя: {:.2f}'.format(value))"
   ]
  },
  {
   "cell_type": "markdown",
   "metadata": {},
   "source": [
    "# Задание 6"
   ]
  },
  {
   "cell_type": "code",
   "execution_count": 4,
   "metadata": {},
   "outputs": [
    {
     "name": "stdout",
     "output_type": "stream",
     "text": [
      "Введите числа:1 2 3 4 3 1 3 1 2\n",
      "1 3 2\n"
     ]
    }
   ],
   "source": [
    "# в выводе числа отсортированы, в задании ничего не сказано про сортировку, поэтому игнорирую этот факт\n",
    "numbers = input('Введите числа:').split(' ')\n",
    "\n",
    "duplicates = []\n",
    "\n",
    "for number in set(numbers):\n",
    "    if numbers.count(number) > 1:\n",
    "        duplicates.append(number)\n",
    "        \n",
    "print(' '.join(duplicates))"
   ]
  }
 ],
 "metadata": {
  "kernelspec": {
   "display_name": "Python 3",
   "language": "python",
   "name": "python3"
  },
  "language_info": {
   "codemirror_mode": {
    "name": "ipython",
    "version": 3
   },
   "file_extension": ".py",
   "mimetype": "text/x-python",
   "name": "python",
   "nbconvert_exporter": "python",
   "pygments_lexer": "ipython3",
   "version": "3.8.6"
  }
 },
 "nbformat": 4,
 "nbformat_minor": 4
}
