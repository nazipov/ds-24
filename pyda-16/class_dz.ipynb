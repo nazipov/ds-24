{
 "cells": [
  {
   "cell_type": "markdown",
   "metadata": {},
   "source": [
    "# Задание 1"
   ]
  },
  {
   "cell_type": "code",
   "execution_count": 30,
   "metadata": {},
   "outputs": [
    {
     "name": "stdout",
     "output_type": "stream",
     "text": [
      "СДР (специальные права заимствования)\n"
     ]
    }
   ],
   "source": [
    "import requests\n",
    "\n",
    "def currency_with_max_rate():\n",
    "    rates = requests.get('https://www.cbr-xml-daily.ru/daily_json.js').json()['Valute']\n",
    "    return sorted(rates.items(), key=lambda r: r[1]['Value'], reverse=True)[0][1]['Name']\n",
    "\n",
    "print(currency_with_max_rate())"
   ]
  },
  {
   "cell_type": "markdown",
   "metadata": {},
   "source": [
    "# Задание 2"
   ]
  },
  {
   "cell_type": "code",
   "execution_count": 9,
   "metadata": {},
   "outputs": [
    {
     "name": "stdout",
     "output_type": "stream",
     "text": [
      "USD diff = -1.3566000000000003\n",
      "EUR diff = -1.1766999999999967\n"
     ]
    }
   ],
   "source": [
    "import requests\n",
    "\n",
    "class Rate:\n",
    "    def __init__(self, format='value', diff=False):\n",
    "        self.format = format\n",
    "        self.diff = diff\n",
    "    \n",
    "    def get_exchange_rates(self, url='https://www.cbr-xml-daily.ru/daily_json.js'):\n",
    "        return requests.get(url).json()\n",
    "\n",
    "    def previous_exchange_rates(self):\n",
    "        if self.previous_exchange_rates_url is None:\n",
    "            return 'Error'\n",
    "\n",
    "        return self.get_exchange_rates(self.previous_exchange_rates_url)['Valute']\n",
    "\n",
    "    def current_exchange_rates(self):\n",
    "        response = self.get_exchange_rates()\n",
    "        self.previous_exchange_rates_url = \"https:\" + response['PreviousURL']\n",
    "        return response['Valute']\n",
    "    \n",
    "    def make_format(self, currency):\n",
    "        exchange_rates = self.current_exchange_rates()\n",
    "        \n",
    "        if currency in exchange_rates:\n",
    "            if self.format == 'full':\n",
    "                return exchange_rates[currency]\n",
    "            \n",
    "            if self.format == 'value':\n",
    "                if self.diff:\n",
    "                    old_exchange_rates = self.previous_exchange_rates()\n",
    "\n",
    "                    return old_exchange_rates[currency]['Value'] - exchange_rates[currency]['Value']\n",
    "                else:\n",
    "                    return exchange_rates[currency]['Value']\n",
    "        \n",
    "        return 'Error'\n",
    "    \n",
    "    def eur(self):\n",
    "        return self.make_format('EUR')\n",
    "    \n",
    "    def usd(self):\n",
    "        return self.make_format('USD')\n",
    "\n",
    "print(\"USD diff = {}\".format(Rate(format='value', diff=True).usd()))\n",
    "print(\"EUR diff = {}\".format(Rate(format='value', diff=True).eur()))"
   ]
  },
  {
   "cell_type": "markdown",
   "metadata": {},
   "source": [
    "# Задание 3"
   ]
  },
  {
   "cell_type": "code",
   "execution_count": 6,
   "metadata": {},
   "outputs": [
    {
     "name": "stdout",
     "output_type": "stream",
     "text": [
      "Vova 2\n"
     ]
    }
   ],
   "source": [
    "class Employee:\n",
    "    def __init__(self, name, seniority):\n",
    "        self.name = name\n",
    "        self.seniority = seniority\n",
    "        \n",
    "        self.grade = 1\n",
    "    \n",
    "    def grade_up(self):\n",
    "        \"\"\"Повышает уровень сотрудника\"\"\"\n",
    "        self.grade += 1\n",
    "    \n",
    "    def publish_grade(self):\n",
    "        \"\"\"Публикация результатов аккредитации сотрудников\"\"\"\n",
    "        print(self.name, self.grade)\n",
    "    \n",
    "    def check_if_it_is_time_for_upgrade(self):\n",
    "        pass\n",
    "    \n",
    "class Designer(Employee):\n",
    "    def __init__(self, name, seniority):\n",
    "        super().__init__(name, seniority)\n",
    "        self.international_award = 2\n",
    "        \n",
    "    def international_award_up(self):\n",
    "        self.international_award += 1\n",
    "        \n",
    "    def check_if_it_is_time_for_upgrade(self):\n",
    "        self.seniority += 1\n",
    "\n",
    "        if (self.seniority + self.international_award * 2) % 7 == 0:\n",
    "            self.grade_up()\n",
    "\n",
    "        return self.publish_grade()\n",
    "    \n",
    "d = Designer(\"Vova\", 0)\n",
    "\n",
    "d.international_award_up()\n",
    "d.check_if_it_is_time_for_upgrade()"
   ]
  }
 ],
 "metadata": {
  "kernelspec": {
   "display_name": "Python 3",
   "language": "python",
   "name": "python3"
  },
  "language_info": {
   "codemirror_mode": {
    "name": "ipython",
    "version": 3
   },
   "file_extension": ".py",
   "mimetype": "text/x-python",
   "name": "python",
   "nbconvert_exporter": "python",
   "pygments_lexer": "ipython3",
   "version": "3.9.0"
  }
 },
 "nbformat": 4,
 "nbformat_minor": 4
}
